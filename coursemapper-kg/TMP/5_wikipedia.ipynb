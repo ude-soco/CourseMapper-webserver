{
 "cells": [
  {
   "cell_type": "code",
   "execution_count": 8,
   "metadata": {},
   "outputs": [],
   "source": [
    "import wikipedia"
   ]
  },
  {
   "cell_type": "code",
   "execution_count": 9,
   "metadata": {},
   "outputs": [],
   "source": [
    "concepts = ['Learning analytics',\n",
    " 'Analytics',\n",
    " 'Predictive analytics',\n",
    " 'Learning management system',\n",
    " 'Machine learning',\n",
    " 'Renaissance Learning',\n",
    " 'Learning engineering',\n",
    " 'Google Analytics',\n",
    " 'IEEE Transactions on Learning Technologies',\n",
    " 'Artificial Intelligence for IT Operations',\n",
    "#  'Educational technology',\n",
    "#  'Dragan Gasevic',\n",
    "#  'Corrective feedback',\n",
    "#  'Business analytics',\n",
    "#  'Educational data mining'\n",
    " ]"
   ]
  },
  {
   "cell_type": "code",
   "execution_count": 10,
   "metadata": {},
   "outputs": [],
   "source": [
    "# concepts = [\"Machine learning\", \"Learning analytics\"]\n",
    "top_n = 5"
   ]
  },
  {
   "cell_type": "code",
   "execution_count": 11,
   "metadata": {},
   "outputs": [],
   "source": [
    "response = wikipedia.search(concepts, top_n)"
   ]
  },
  {
   "cell_type": "code",
   "execution_count": 12,
   "metadata": {},
   "outputs": [
    {
     "data": {
      "text/plain": [
       "['Artificial Intelligence for IT Operations',\n",
       " 'Artificial intelligence',\n",
       " 'Applications of artificial intelligence',\n",
       " 'Artificial general intelligence',\n",
       " 'History of artificial intelligence']"
      ]
     },
     "execution_count": 12,
     "metadata": {},
     "output_type": "execute_result"
    }
   ],
   "source": [
    "response"
   ]
  },
  {
   "cell_type": "code",
   "execution_count": 13,
   "metadata": {},
   "outputs": [],
   "source": [
    "title = response[0]\n",
    "page = wikipedia.page(title)"
   ]
  },
  {
   "cell_type": "code",
   "execution_count": 14,
   "metadata": {},
   "outputs": [
    {
     "data": {
      "text/plain": [
       "['Agent-based model',\n",
       " 'Analytics',\n",
       " 'Anomaly detection',\n",
       " 'Augmented reality',\n",
       " 'Big data',\n",
       " 'Business intelligence',\n",
       " 'CI/CD',\n",
       " 'Cloud research',\n",
       " 'Continual improvement process',\n",
       " 'Customer support',\n",
       " 'Data center management',\n",
       " 'DevOps',\n",
       " 'Doi (identifier)',\n",
       " 'Gartner',\n",
       " 'Hdl (identifier)',\n",
       " 'IBM',\n",
       " 'ISBN (identifier)',\n",
       " 'ISSN (identifier)',\n",
       " 'IT operations analytics',\n",
       " 'Incident management',\n",
       " 'Internet of things',\n",
       " 'Machine learning',\n",
       " 'Natural language generation',\n",
       " 'Normalization (statistics)',\n",
       " 'Observational study',\n",
       " 'Privacy policy',\n",
       " 'S2CID (identifier)',\n",
       " 'Security information and event management',\n",
       " 'Streaming data',\n",
       " 'System configuration',\n",
       " 'TechTarget',\n",
       " 'The Register',\n",
       " 'Unnormalized form']"
      ]
     },
     "execution_count": 14,
     "metadata": {},
     "output_type": "execute_result"
    }
   ],
   "source": [
    "page.links"
   ]
  },
  {
   "cell_type": "code",
   "execution_count": 15,
   "metadata": {},
   "outputs": [
    {
     "ename": "NameError",
     "evalue": "name 'xxxxx' is not defined",
     "output_type": "error",
     "traceback": [
      "\u001b[0;31m---------------------------------------------------------------------------\u001b[0m",
      "\u001b[0;31mNameError\u001b[0m                                 Traceback (most recent call last)",
      "\u001b[0;32m/tmp/ipykernel_62186/3553723957.py\u001b[0m in \u001b[0;36m<module>\u001b[0;34m\u001b[0m\n\u001b[0;32m----> 1\u001b[0;31m \u001b[0mxxxxx\u001b[0m\u001b[0;34m\u001b[0m\u001b[0;34m\u001b[0m\u001b[0m\n\u001b[0m",
      "\u001b[0;31mNameError\u001b[0m: name 'xxxxx' is not defined"
     ]
    }
   ],
   "source": [
    "xxxxx"
   ]
  },
  {
   "cell_type": "code",
   "execution_count": null,
   "metadata": {},
   "outputs": [
    {
     "name": "stdout",
     "output_type": "stream",
     "text": [
      "{'title': 'Learning analytics', 'original_title': 'Learning analytics', 'pageid': '28486111', 'url': 'https://en.wikipedia.org/wiki/Learning_analytics'}\n",
      "\n",
      "{'title': 'Analysis', 'original_title': 'analysis', 'pageid': '1134', 'url': 'https://en.wikipedia.org/wiki/Analysis'}\n",
      "\n",
      "{'title': 'Learning management system', 'original_title': 'Learning management system', 'pageid': '1729908', 'url': 'https://en.wikipedia.org/wiki/Learning_management_system'}\n",
      "\n"
     ]
    }
   ],
   "source": [
    "for title in response:\n",
    "    try:\n",
    "        page = wikipedia.page(title)\n",
    "        print(page.__dict__)\n",
    "        print()\n",
    "    except:\n",
    "        pass"
   ]
  },
  {
   "cell_type": "code",
   "execution_count": null,
   "metadata": {},
   "outputs": [
    {
     "ename": "NameError",
     "evalue": "name 'xxxxx' is not defined",
     "output_type": "error",
     "traceback": [
      "\u001b[0;31m---------------------------------------------------------------------------\u001b[0m",
      "\u001b[0;31mNameError\u001b[0m                                 Traceback (most recent call last)",
      "\u001b[0;32m/tmp/ipykernel_78699/3553723957.py\u001b[0m in \u001b[0;36m<module>\u001b[0;34m\u001b[0m\n\u001b[0;32m----> 1\u001b[0;31m \u001b[0mxxxxx\u001b[0m\u001b[0;34m\u001b[0m\u001b[0;34m\u001b[0m\u001b[0m\n\u001b[0m",
      "\u001b[0;31mNameError\u001b[0m: name 'xxxxx' is not defined"
     ]
    }
   ],
   "source": [
    "xxxxx"
   ]
  },
  {
   "cell_type": "code",
   "execution_count": null,
   "metadata": {},
   "outputs": [
    {
     "data": {
      "text/plain": [
       "{'title': 'Learning analytics',\n",
       " 'original_title': 'Learning analytics',\n",
       " 'pageid': '28486111',\n",
       " 'url': 'https://en.wikipedia.org/wiki/Learning_analytics'}"
      ]
     },
     "execution_count": 15,
     "metadata": {},
     "output_type": "execute_result"
    }
   ],
   "source": [
    "# page.__dict__"
   ]
  }
 ],
 "metadata": {
  "kernelspec": {
   "display_name": "venv",
   "language": "python",
   "name": "python3"
  },
  "language_info": {
   "codemirror_mode": {
    "name": "ipython",
    "version": 3
   },
   "file_extension": ".py",
   "mimetype": "text/x-python",
   "name": "python",
   "nbconvert_exporter": "python",
   "pygments_lexer": "ipython3",
   "version": "3.7.17"
  }
 },
 "nbformat": 4,
 "nbformat_minor": 2
}
