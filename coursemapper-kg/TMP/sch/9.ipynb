{
 "cells": [
  {
   "cell_type": "code",
   "execution_count": 1,
   "metadata": {},
   "outputs": [
    {
     "name": "stdout",
     "output_type": "stream",
     "text": [
      "Observed frequencies:\n",
      "[100, 200, 300]\n",
      "[50, 60, 70]\n",
      "\n",
      "Degree of freedom: 2\n",
      "p-value: 0.001937714203415323\n",
      "Reject NULL HYPOTHESIS: There is a significant association between the variables.\n"
     ]
    }
   ],
   "source": [
    "# Import the necessary library\n",
    "from scipy.stats import chi2_contingency\n",
    "\n",
    "# Example data (observed frequencies)\n",
    "info = [[100, 200, 300], [50, 60, 70]]\n",
    "\n",
    "# Print the observed frequencies\n",
    "print(\"Observed frequencies:\")\n",
    "for row in info:\n",
    "    print(row)\n",
    "\n",
    "# Perform the chi-square test\n",
    "# stat, p, dof = chi2_contingency(info)\n",
    "chi2, p, dof, expected = chi2_contingency(info)\n",
    "\n",
    "# Set the significance level (alpha)\n",
    "significance_level = 0.05\n",
    "\n",
    "# Print the degree of freedom and p-value\n",
    "print(\"\\nDegree of freedom:\", dof)\n",
    "print(\"p-value:\", p)\n",
    "\n",
    "# Interpret the results\n",
    "if p <= significance_level:\n",
    "    print(\"Reject NULL HYPOTHESIS: There is a significant association between the variables.\")\n",
    "else:\n",
    "    print(\"ACCEPT NULL HYPOTHESIS: No significant association between the variables.\")\n"
   ]
  }
 ],
 "metadata": {
  "kernelspec": {
   "display_name": "venv",
   "language": "python",
   "name": "python3"
  },
  "language_info": {
   "codemirror_mode": {
    "name": "ipython",
    "version": 3
   },
   "file_extension": ".py",
   "mimetype": "text/x-python",
   "name": "python",
   "nbconvert_exporter": "python",
   "pygments_lexer": "ipython3",
   "version": "3.12.0"
  }
 },
 "nbformat": 4,
 "nbformat_minor": 2
}
